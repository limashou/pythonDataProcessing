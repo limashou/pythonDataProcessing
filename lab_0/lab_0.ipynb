{
 "cells": [
  {
   "cell_type": "code",
   "execution_count": 7,
   "id": "initial_id",
   "metadata": {
    "collapsed": true,
    "ExecuteTime": {
     "end_time": "2023-11-30T08:28:34.324955Z",
     "start_time": "2023-11-30T08:28:34.301717Z"
    }
   },
   "outputs": [
    {
     "data": {
      "text/plain": "8"
     },
     "execution_count": 7,
     "metadata": {},
     "output_type": "execute_result"
    }
   ],
   "source": [
    "ord(\"M\") % 10 + 1"
   ]
  },
  {
   "cell_type": "markdown",
   "source": [
    "# <span style=\"color:blue;\"> Грузія </span>\n",
    "\n",
    "## Площа\n",
    "Загальна площа: 69,700 км²\n",
    "\n",
    "## Населення\n",
    "Кількість жителів: 3,716,858 (станом на 2022 рік)\n",
    "\n",
    "## <div style = \"border: 2px solid white;\"> Державний устрій </div>\n",
    "Тип уряду: *Парламентська республіка*\n",
    "## Видатні персоналії\n",
    "- *Шота Руставелі* - великий грузинський поет\n",
    "- *Джорджійський царь Давид IV (Давид Строитель)* \n",
    "\n",
    "## Пам'ятки культури та природи\n",
    "1. *Светицховели* - кафедральний собор в Мцхеті\n",
    "2. *Гелаті* - монастир і академія біля Кутаїсі\n",
    "\n",
    "\n",
    "## Зображення\n",
    "![Грузія](https://www.google.com/imgres?imgurl=https%3A%2F%2Fwww.tutu.ru%2Ffile%2F5%2F0ac78d63ad4848dd861e9e1c024d4fd4%2F&tbnid=PMqLn3hhx0QJcM&vet=12ahUKEwjdvs3jpuuCAxXl6QIHHd5zDh0QMygEegQIARBZ..i&imgrefurl=https%3A%2F%2Fwww.tutu.ru%2Fgeo%2Fgeorgia%2Farticle%2Fphoto%2F&docid=2vqFAx8HNKB1XM&w=1000&h=667&q=грузия%20картинка%20&client=safari&ved=2ahUKEwjdvs3jpuuCAxXl6QIHHd5zDh0QMygEegQIARBZ)\n",
    "\n",
    "## Гіперпосилання\n",
    "[Источник](https://uk.wikipedia.org/wiki/Грузія)\n",
    "\n",
    "## Вкладений список;\n",
    "- Пам'ятки\n",
    "\t- Светицховели.\n",
    "    - Гелаті\n",
    "- Видатні особистості \n",
    "    - Шота Руставелі\n",
    "    - Давид IV\n",
    "\n",
    "## table\t\n",
    "<table  style = \"border: 2px solid white;\"> \n",
    "<tr>   \n",
    " <th>Збройні сили</th>\n",
    " <th>Виконуюча влада </th>\n",
    " <th>Зовніщня політика Грузії</th>\n",
    "</tr>\n",
    "<tr  style = \"border: 2px solid white;\">\n",
    " <th> 36 553 людини</th>\n",
    " <th>Саломе Зурабішвілі </th>\n",
    " <th> Північна Македонія</th>\n",
    "</tr>\n",
    "<tr  style = \"border: 2px solid white;\">\n",
    " <th>21 генерал</th>\n",
    " <th>Георгій Маргвелашвілі </th>\n",
    " <th>Далі шукати не хочу</th>\n",
    "</tr>\n",
    "</table>"
   ],
   "metadata": {
    "collapsed": false
   },
   "id": "8678cc56c7d141a0"
  },
  {
   "cell_type": "code",
   "execution_count": 8,
   "outputs": [
    {
     "data": {
      "text/plain": "<IPython.core.display.HTML object>",
      "text/html": "<svg xmlns=\"http://www.w3.org/2000/svg\" xmlns:xlink=\"http://www.w3.org/1999/xlink\" width=\"900\" height=\"600\" viewBox=\"0 0 30 20\" fill=\"#f00\">\n\t<title>Flag of Georgia</title>\n\t<path fill=\"#fff\" d=\"m0 0h30v20H0z\"/>\n\t<path d=\"m13 0h4v20h-4zM0 8h30v4H0z\"/>\n\t<g id=\"c\">\n\t\t<g id=\"b\">\n\t\t\t<path id=\"a\" d=\"m5.7968 1.954a5.4 5.4 0 0 0 1.4064 0 10.4 10.4 0 0 0 0 4.092 5.4 5.4 0 0 0-1.4064 0 10.4 10.4 0 0 0 0-4.092z\"/>\n\t\t\t<use transform=\"rotate(90,6.5,4)\" xlink:href=\"#a\"/>\n\t\t</g>\n\t\t<use x=\"17\" xlink:href=\"#b\"/>\n\t</g>\n\t<use y=\"12\" xlink:href=\"#c\"/>\n</svg>\n"
     },
     "metadata": {},
     "output_type": "display_data"
    }
   ],
   "source": [
    "%%HTML\n",
    "<svg xmlns=\"http://www.w3.org/2000/svg\" xmlns:xlink=\"http://www.w3.org/1999/xlink\" width=\"900\" height=\"600\" viewBox=\"0 0 30 20\" fill=\"#f00\">\n",
    "\t<title>Flag of Georgia</title>\n",
    "\t<path fill=\"#fff\" d=\"m0 0h30v20H0z\"/>\n",
    "\t<path d=\"m13 0h4v20h-4zM0 8h30v4H0z\"/>\n",
    "\t<g id=\"c\">\n",
    "\t\t<g id=\"b\">\n",
    "\t\t\t<path id=\"a\" d=\"m5.7968 1.954a5.4 5.4 0 0 0 1.4064 0 10.4 10.4 0 0 0 0 4.092 5.4 5.4 0 0 0-1.4064 0 10.4 10.4 0 0 0 0-4.092z\"/>\n",
    "\t\t\t<use transform=\"rotate(90,6.5,4)\" xlink:href=\"#a\"/>\n",
    "\t\t</g>\n",
    "\t\t<use x=\"17\" xlink:href=\"#b\"/>\n",
    "\t</g>\n",
    "\t<use y=\"12\" xlink:href=\"#c\"/>\n",
    "</svg>"
   ],
   "metadata": {
    "collapsed": false,
    "ExecuteTime": {
     "end_time": "2023-11-30T08:28:34.386087Z",
     "start_time": "2023-11-30T08:28:34.326907Z"
    }
   },
   "id": "68ba5af9b9a90087"
  },
  {
   "cell_type": "code",
   "execution_count": 9,
   "outputs": [
    {
     "name": "stdout",
     "output_type": "stream",
     "text": [
      "Відсортований список (від найбільшого до найменшого): [78, 34, 23, 7, 5, 3, 3]\n",
      "Відсортований список (від найбільшого до найменшого): [212, 33, 22, 11, 3, 2, 1]\n",
      "Відсортований список (від найбільшого до найменшого): [32, 22, 12, 3, 3, 1, -3]\n"
     ]
    }
   ],
   "source": [
    "def gnome_sort(lst):\n",
    "    i = 0\n",
    "    while i < len(lst):\n",
    "        if i == 0 or lst[i - 1] <= lst[i]:\n",
    "            i += 1\n",
    "        else:\n",
    "            lst[i - 1], lst[i] = lst[i], lst[i - 1]\n",
    "            i -= 1\n",
    "    return lst\n",
    "\n",
    "def task_8():\n",
    "    input_list = [5, 3, 78, 3, 23, 7 ,34]\n",
    "    input_list2 = [11,212,22,33,1,2,3]\n",
    "    input_list3 = [32,1,-3,22,3,12,3]\n",
    "    sorted_list = gnome_sort(input_list)\n",
    "    sorted_list2 =gnome_sort(input_list2)\n",
    "    sorted_list3 = gnome_sort(input_list3)\n",
    "    print(\"Відсортований список (від найбільшого до найменшого):\", sorted_list[::-1])\n",
    "    print(\"Відсортований список (від найбільшого до найменшого):\", sorted_list2[::-1])\n",
    "    print(\"Відсортований список (від найбільшого до найменшого):\", sorted_list3[::-1])\n",
    "\n",
    "task_8()"
   ],
   "metadata": {
    "collapsed": false,
    "ExecuteTime": {
     "end_time": "2023-11-30T08:28:34.386799Z",
     "start_time": "2023-11-30T08:28:34.333190Z"
    }
   },
   "id": "8a2b19b7fd425c23"
  },
  {
   "cell_type": "code",
   "execution_count": 9,
   "outputs": [],
   "source": [],
   "metadata": {
    "collapsed": false,
    "ExecuteTime": {
     "end_time": "2023-11-30T08:28:34.386937Z",
     "start_time": "2023-11-30T08:28:34.335930Z"
    }
   },
   "id": "52b3811ed2a5c69c"
  }
 ],
 "metadata": {
  "kernelspec": {
   "display_name": "Python 3",
   "language": "python",
   "name": "python3"
  },
  "language_info": {
   "codemirror_mode": {
    "name": "ipython",
    "version": 2
   },
   "file_extension": ".py",
   "mimetype": "text/x-python",
   "name": "python",
   "nbconvert_exporter": "python",
   "pygments_lexer": "ipython2",
   "version": "2.7.6"
  }
 },
 "nbformat": 4,
 "nbformat_minor": 5
}
