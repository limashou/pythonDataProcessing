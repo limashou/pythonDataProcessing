{
 "cells": [
  {
   "cell_type": "markdown",
   "source": [
    "1. Загрузити файл з даними про споживання енергії “En_In.xls”, який являє\n",
    "собою перелік показників енергозабезпечення та виробництва відновлюваної\n",
    "електроенергії, і ввести їх в DataFrame.\n",
    "Майте на увазі, що це файл Excel, а не .csv. Також необхідно НЕ\n",
    "ВКЛЮЧАТИ інформацію з нижніх та верхніх рядків файлу даних. Перші два\n",
    "стовпці непотрібні, тому їх необхідно виключити із датафрейму, а також\n",
    "поміняти мітки стовпців так, щоб вони були такими:\n",
    "['Country', 'Energy Supply', 'Energy Supply per Capita', '%\n",
    "Renewable]\n",
    "2. Переведіть дані із стовпчику ‘Energy Supply’ в гДж (Примітка: в 1ПДж\n",
    "= 1000000 ГДж). Для всіх країн, у яких відсутні дані (наприклад, дані з\n",
    "\".....\"), переконайтеся, що це відображається як значення np.NaN.\n",
    "3. Перейменуйте наступний список країн:\n",
    "\"Republic of Korea\": \"South Korea\",\n",
    "\"United States of America\": \"United States\", \"\n",
    "United Kingdom of Great Britain and Northern Ireland\": \"United\n",
    "Kingdom\",\n",
    "\"China, Hong Kong Special Administrative Region\": \"Hong Kong\"\n",
    "4. Існує також декілька країн, що мають в назві цифри та/або дужки.\n",
    "Обов’язково видаліть їх, напр. 'Bolivia (Plurinational State of)'\n",
    "повинна бути ‘Bolivia’, ‘Switzerland17’ повинна бути Switzerland’."
   ],
   "metadata": {
    "collapsed": false
   },
   "id": "6516f1b113865ba5"
  },
  {
   "cell_type": "code",
   "execution_count": 10,
   "outputs": [
    {
     "data": {
      "text/plain": "            Country   Energy Supply  Energy Supply per Capita  % Renewable\n3    American Samoa             NaN                       NaN        0.641\n24          Bolivia   336000000.000                    32.000       31.477\n164     South Korea 11007000000.000                   221.000        2.279",
      "text/html": "<div>\n<style scoped>\n    .dataframe tbody tr th:only-of-type {\n        vertical-align: middle;\n    }\n\n    .dataframe tbody tr th {\n        vertical-align: top;\n    }\n\n    .dataframe thead th {\n        text-align: right;\n    }\n</style>\n<table border=\"1\" class=\"dataframe\">\n  <thead>\n    <tr style=\"text-align: right;\">\n      <th></th>\n      <th>Country</th>\n      <th>Energy Supply</th>\n      <th>Energy Supply per Capita</th>\n      <th>% Renewable</th>\n    </tr>\n  </thead>\n  <tbody>\n    <tr>\n      <th>3</th>\n      <td>American Samoa</td>\n      <td>NaN</td>\n      <td>NaN</td>\n      <td>0.641</td>\n    </tr>\n    <tr>\n      <th>24</th>\n      <td>Bolivia</td>\n      <td>336000000.000</td>\n      <td>32.000</td>\n      <td>31.477</td>\n    </tr>\n    <tr>\n      <th>164</th>\n      <td>South Korea</td>\n      <td>11007000000.000</td>\n      <td>221.000</td>\n      <td>2.279</td>\n    </tr>\n  </tbody>\n</table>\n</div>"
     },
     "execution_count": 10,
     "metadata": {},
     "output_type": "execute_result"
    }
   ],
   "source": [
    "import pandas as pd\n",
    "import re\n",
    "\n",
    "pd.set_option('display.float_format', '{:.3f}'.format)\n",
    "Energy = pd.read_excel('En_In.xls', skiprows=17, skipfooter=38, usecols=[1, 3, 4, 5], names=['Country', 'Energy Supply', 'Energy Supply per Capita', '% Renewable'])\n",
    "\n",
    "Energy['Energy Supply'] = pd.to_numeric(Energy['Energy Supply'], errors='coerce') * 1_000_000\n",
    "Energy['Energy Supply per Capita'] = pd.to_numeric(Energy['Energy Supply per Capita'], errors='coerce')\n",
    "\n",
    "country_mapping = {\n",
    "    \"Republic of Korea\": \"South Korea\",\n",
    "    \"United States of America\": \"United States\",\n",
    "    \"United Kingdom of Great Britain and Northern Ireland\": \"United Kingdom\",\n",
    "    \"China, Hong Kong Special Administrative Region\": \"Hong Kong\"\n",
    "}\n",
    "\n",
    "Energy['Country'] = Energy['Country'].apply(lambda x: re.sub(r'\\d+', '', x))\n",
    "Energy['Country'] = Energy['Country'].apply(lambda x: re.sub(r' \\(.*\\)', '', x))\n",
    "Energy['Country'].replace(country_mapping, inplace=True)\n",
    "\n",
    "Energy.loc[Energy['Country'].isin(['American Samoa', 'South Korea', 'Bolivia'])]"
   ],
   "metadata": {
    "collapsed": false,
    "ExecuteTime": {
     "end_time": "2023-11-22T19:14:15.910951Z",
     "start_time": "2023-11-22T19:14:15.836056Z"
    }
   },
   "id": "initial_id"
  },
  {
   "cell_type": "markdown",
   "source": [
    "5. Далі, завантажте дані про ВВП з файлу „gpd.csv”, що містить дані\n",
    "Світового банку про ВВП країн від 1960 до 2015 року.\n",
    "Обов’язково не включайте заголовок до датафрейму і перейменуйте\n",
    "наступний список країн:\n",
    "\"Korea, Rep.\": \"South Korea\",\n",
    "\"Iran, Islamic Rep.\": \"Iran\",\n",
    "\"Hong Kong SAR, China\": \"Hong Kong\""
   ],
   "metadata": {
    "collapsed": false
   },
   "id": "30fff97ac9e7aa9d"
  },
  {
   "cell_type": "code",
   "execution_count": 11,
   "outputs": [
    {
     "data": {
      "text/plain": "  Country Name Country Code                            Indicator Name  \\\n0        Aruba          ABW  GDP at market prices (constant 2010 US$)   \n\n   Indicator Code  2006  2007  2008  2009           2010  2011  2012  2013  \\\n0  NY.GDP.MKTP.KD   NaN   NaN   NaN   NaN 2467703910.615   NaN   NaN   NaN   \n\n   2014  2015  \n0   NaN   NaN  ",
      "text/html": "<div>\n<style scoped>\n    .dataframe tbody tr th:only-of-type {\n        vertical-align: middle;\n    }\n\n    .dataframe tbody tr th {\n        vertical-align: top;\n    }\n\n    .dataframe thead th {\n        text-align: right;\n    }\n</style>\n<table border=\"1\" class=\"dataframe\">\n  <thead>\n    <tr style=\"text-align: right;\">\n      <th></th>\n      <th>Country Name</th>\n      <th>Country Code</th>\n      <th>Indicator Name</th>\n      <th>Indicator Code</th>\n      <th>2006</th>\n      <th>2007</th>\n      <th>2008</th>\n      <th>2009</th>\n      <th>2010</th>\n      <th>2011</th>\n      <th>2012</th>\n      <th>2013</th>\n      <th>2014</th>\n      <th>2015</th>\n    </tr>\n  </thead>\n  <tbody>\n    <tr>\n      <th>0</th>\n      <td>Aruba</td>\n      <td>ABW</td>\n      <td>GDP at market prices (constant 2010 US$)</td>\n      <td>NY.GDP.MKTP.KD</td>\n      <td>NaN</td>\n      <td>NaN</td>\n      <td>NaN</td>\n      <td>NaN</td>\n      <td>2467703910.615</td>\n      <td>NaN</td>\n      <td>NaN</td>\n      <td>NaN</td>\n      <td>NaN</td>\n      <td>NaN</td>\n    </tr>\n  </tbody>\n</table>\n</div>"
     },
     "execution_count": 11,
     "metadata": {},
     "output_type": "execute_result"
    }
   ],
   "source": [
    "GDP = pd.read_csv('gpd.csv', skiprows=4)\n",
    "\n",
    "country_mapping_gdp = {\n",
    "    \"Korea, Rep.\": \"South Korea\",\n",
    "    \"Iran, Islamic Rep.\": \"Iran\",\n",
    "    \"Hong Kong SAR, China\": \"Hong Kong\"\n",
    "}\n",
    "\n",
    "GDP['Country Name'].replace(country_mapping_gdp, inplace=True)\n",
    "GDP.drop(columns=list(map(str, range(1960, 2006))), inplace=True)\n",
    "\n",
    "GDP.head(1)"
   ],
   "metadata": {
    "collapsed": false,
    "ExecuteTime": {
     "end_time": "2023-11-22T19:14:15.936917Z",
     "start_time": "2023-11-22T19:14:15.853469Z"
    }
   },
   "id": "5020b62b2337d1b3"
  },
  {
   "cell_type": "markdown",
   "source": [
    "6. Завантажте дані з файлу „scimagojr.xlsx”, який класифікує країни на основі\n",
    "їхніх публікацій в журналах у галузі енергетичного машинобудування та\n",
    "енергетичних технологій.\n",
    "\n",
    "7. Приєднайте три набори даних із завдань 1-6 до нового набору даних\n",
    "(використовуючи перетин назв країн).\n",
    "- Використовуйте лише дані про ВВП за останні 10 років (2006-2015 рр.) і\n",
    "лише 15 найкращих країн за рейтингом Scimagojr (Rank від 1 до 15)\n",
    "- Індексом цього DataFrame повинна бути назва країни, а стовпцями мають\n",
    "бути ['Rank', 'Documents', 'Citable documents', 'Citations', 'Self-citations',\n",
    "'Citations per document', 'H index', 'Energy Supply', 'Energy Supply per Capita', '%\n",
    "Renewable', '2006', '2007', '2008', '2009', '2010', '2011', '2012', '2013', '2014',\n",
    "'2015'].\n",
    "Ви повинні отримати DataFrame з 15 рядками та 20 стовпцями."
   ],
   "metadata": {
    "collapsed": false
   },
   "id": "e5d92cdcb33b5b13"
  },
  {
   "cell_type": "code",
   "execution_count": 12,
   "outputs": [
    {
     "data": {
      "text/plain": "               Rank  Documents  Citable documents  Citations  Self-citations  \\\nCountry                                                                        \nChina             1     127050             126767     597237          411683   \nUnited States     2      96661              94747     792274          265436   \nJapan             3      30504              30287     223024           61554   \n\n               Citations per document  H index    Energy Supply  \\\nCountry                                                           \nChina                           4.700      138 127191000000.000   \nUnited States                   8.200      230  90838000000.000   \nJapan                           7.310      134  18984000000.000   \n\n               Energy Supply per Capita  % Renewable               2006  \\\nCountry                                                                   \nChina                            93.000       19.755  3992331462570.890   \nUnited States                   286.000       11.571 14792303791800.000   \nJapan                           149.000       10.233  5496541517363.310   \n\n                            2007               2008               2009  \\\nCountry                                                                  \nChina          4559041383517.930  4997775145605.960  5459247267275.140   \nUnited States 15055395304800.000 15011490541400.000 14594842181900.000   \nJapan          5617035943770.730  5558526873313.820  5251308399909.320   \n\n                            2010               2011               2012  \\\nCountry                                                                  \nChina          6039658508485.590  6612490294273.650  7124977970399.610   \nUnited States 14964372000000.000 15204019634600.000 15542161722300.000   \nJapan          5498717815809.770  5473738114222.050  5569101602926.180   \n\n                            2013               2014               2015  \nCountry                                                                 \nChina          7672447738017.420  8230120617793.520  8797998940421.279  \nUnited States 15773666098800.000 16156618476000.000 16548573278300.000  \nJapan          5644658523313.420  5642884448582.190  5669563143140.970  ",
      "text/html": "<div>\n<style scoped>\n    .dataframe tbody tr th:only-of-type {\n        vertical-align: middle;\n    }\n\n    .dataframe tbody tr th {\n        vertical-align: top;\n    }\n\n    .dataframe thead th {\n        text-align: right;\n    }\n</style>\n<table border=\"1\" class=\"dataframe\">\n  <thead>\n    <tr style=\"text-align: right;\">\n      <th></th>\n      <th>Rank</th>\n      <th>Documents</th>\n      <th>Citable documents</th>\n      <th>Citations</th>\n      <th>Self-citations</th>\n      <th>Citations per document</th>\n      <th>H index</th>\n      <th>Energy Supply</th>\n      <th>Energy Supply per Capita</th>\n      <th>% Renewable</th>\n      <th>2006</th>\n      <th>2007</th>\n      <th>2008</th>\n      <th>2009</th>\n      <th>2010</th>\n      <th>2011</th>\n      <th>2012</th>\n      <th>2013</th>\n      <th>2014</th>\n      <th>2015</th>\n    </tr>\n    <tr>\n      <th>Country</th>\n      <th></th>\n      <th></th>\n      <th></th>\n      <th></th>\n      <th></th>\n      <th></th>\n      <th></th>\n      <th></th>\n      <th></th>\n      <th></th>\n      <th></th>\n      <th></th>\n      <th></th>\n      <th></th>\n      <th></th>\n      <th></th>\n      <th></th>\n      <th></th>\n      <th></th>\n      <th></th>\n    </tr>\n  </thead>\n  <tbody>\n    <tr>\n      <th>China</th>\n      <td>1</td>\n      <td>127050</td>\n      <td>126767</td>\n      <td>597237</td>\n      <td>411683</td>\n      <td>4.700</td>\n      <td>138</td>\n      <td>127191000000.000</td>\n      <td>93.000</td>\n      <td>19.755</td>\n      <td>3992331462570.890</td>\n      <td>4559041383517.930</td>\n      <td>4997775145605.960</td>\n      <td>5459247267275.140</td>\n      <td>6039658508485.590</td>\n      <td>6612490294273.650</td>\n      <td>7124977970399.610</td>\n      <td>7672447738017.420</td>\n      <td>8230120617793.520</td>\n      <td>8797998940421.279</td>\n    </tr>\n    <tr>\n      <th>United States</th>\n      <td>2</td>\n      <td>96661</td>\n      <td>94747</td>\n      <td>792274</td>\n      <td>265436</td>\n      <td>8.200</td>\n      <td>230</td>\n      <td>90838000000.000</td>\n      <td>286.000</td>\n      <td>11.571</td>\n      <td>14792303791800.000</td>\n      <td>15055395304800.000</td>\n      <td>15011490541400.000</td>\n      <td>14594842181900.000</td>\n      <td>14964372000000.000</td>\n      <td>15204019634600.000</td>\n      <td>15542161722300.000</td>\n      <td>15773666098800.000</td>\n      <td>16156618476000.000</td>\n      <td>16548573278300.000</td>\n    </tr>\n    <tr>\n      <th>Japan</th>\n      <td>3</td>\n      <td>30504</td>\n      <td>30287</td>\n      <td>223024</td>\n      <td>61554</td>\n      <td>7.310</td>\n      <td>134</td>\n      <td>18984000000.000</td>\n      <td>149.000</td>\n      <td>10.233</td>\n      <td>5496541517363.310</td>\n      <td>5617035943770.730</td>\n      <td>5558526873313.820</td>\n      <td>5251308399909.320</td>\n      <td>5498717815809.770</td>\n      <td>5473738114222.050</td>\n      <td>5569101602926.180</td>\n      <td>5644658523313.420</td>\n      <td>5642884448582.190</td>\n      <td>5669563143140.970</td>\n    </tr>\n  </tbody>\n</table>\n</div>"
     },
     "execution_count": 12,
     "metadata": {},
     "output_type": "execute_result"
    }
   ],
   "source": [
    "ScimEn = pd.read_excel('scimagojr.xlsx')\n",
    "merged_df = pd.merge(ScimEn, Energy, how='inner', left_on='Country', right_on='Country')\n",
    "merged_df = pd.merge(merged_df, GDP, how='inner', left_on='Country', right_on='Country Name')\n",
    "\n",
    "years_range = list(map(str, range(2006, 2016)))\n",
    "\n",
    "task7result = merged_df.set_index('Country').loc[:, [\n",
    "    'Rank', 'Documents', 'Citable documents', 'Citations', 'Self-citations',\n",
    "    'Citations per document', 'H index', 'Energy Supply', 'Energy Supply per Capita',\n",
    "    '% Renewable'] + years_range].head(15)\n",
    "\n",
    "task7result.head(3)"
   ],
   "metadata": {
    "collapsed": false,
    "ExecuteTime": {
     "end_time": "2023-11-22T19:14:16.056464Z",
     "start_time": "2023-11-22T19:14:15.864866Z"
    }
   },
   "id": "394fd755123bbfd4"
  },
  {
   "cell_type": "code",
   "execution_count": 13,
   "outputs": [
    {
     "data": {
      "text/plain": "(15, 20)"
     },
     "execution_count": 13,
     "metadata": {},
     "output_type": "execute_result"
    }
   ],
   "source": [
    "task7result.shape"
   ],
   "metadata": {
    "collapsed": false,
    "ExecuteTime": {
     "end_time": "2023-11-22T19:14:16.056792Z",
     "start_time": "2023-11-22T19:14:16.017107Z"
    }
   },
   "id": "75c71d95504f8b19"
  },
  {
   "cell_type": "markdown",
   "source": [
    "8. Створіть функцію, щоб визначити середній ВВП країн за останні 10 років.\n",
    "Ця функція повинна повертати об’єкт Series з 15 країнами та їх середній\n",
    "ВВП, відсортований за спаданням."
   ],
   "metadata": {
    "collapsed": false
   },
   "id": "62cf70638804c4d5"
  },
  {
   "cell_type": "code",
   "execution_count": 14,
   "outputs": [],
   "source": [
    "def task_eight():\n",
    "    avg_gpd = task7result[years_range].mean(axis=1)\n",
    "    return pd.Series(avg_gpd, index=task7result.index).sort_values(ascending=False)\n"
   ],
   "metadata": {
    "collapsed": false,
    "ExecuteTime": {
     "end_time": "2023-11-22T19:14:16.056922Z",
     "start_time": "2023-11-22T19:14:16.020538Z"
    }
   },
   "id": "658c81d2a4e1a9f1"
  },
  {
   "cell_type": "code",
   "execution_count": 15,
   "outputs": [
    {
     "data": {
      "text/plain": "Country\nUnited States        15364344302990.000\nChina                 6348608932836.100\nJapan                 5542207638235.176\nGermany               3493025339072.848\nFrance                2681724635761.589\nUnited Kingdom        2487906661418.417\nBrazil                2189794143774.905\nItaly                 2120175089933.776\nIndia                 1769297396603.860\nCanada                1660647466307.512\nRussian Federation    1565459478480.661\nSpain                 1418078278145.694\nAustralia             1164042729991.427\nSouth Korea           1106714508244.852\nIran                   444155754051.095\ndtype: float64"
     },
     "execution_count": 15,
     "metadata": {},
     "output_type": "execute_result"
    }
   ],
   "source": [
    "task_eight()    "
   ],
   "metadata": {
    "collapsed": false,
    "ExecuteTime": {
     "end_time": "2023-11-22T19:14:16.057427Z",
     "start_time": "2023-11-22T19:14:16.023540Z"
    }
   },
   "id": "e9165d856aed7f0c"
  },
  {
   "cell_type": "markdown",
   "source": [
    "9. Створіть функцію, щоб визначити, наскільки змінився ВВП за останні 10\n",
    "років для країни з 5-м середнім ВВП.\n",
    "\n",
    "Ця функція повинна повертати кортеж із назвою країни та значенням, на\n",
    "яке змінився ВВП."
   ],
   "metadata": {
    "collapsed": false
   },
   "id": "20ace852af5c08b8"
  },
  {
   "cell_type": "code",
   "execution_count": 16,
   "outputs": [],
   "source": [
    "def task_nine():\n",
    "    country_name = task_eight().index[4]\n",
    "    fifth_highest_country = task7result.loc[country_name]\n",
    "    return country_name, fifth_highest_country['2015'] - fifth_highest_country['2006']"
   ],
   "metadata": {
    "collapsed": false,
    "ExecuteTime": {
     "end_time": "2023-11-22T19:14:16.057848Z",
     "start_time": "2023-11-22T19:14:16.029583Z"
    }
   },
   "id": "b4779045fbeb3a0e"
  },
  {
   "cell_type": "code",
   "execution_count": 17,
   "outputs": [
    {
     "data": {
      "text/plain": "('France', 153345695364.24023)"
     },
     "execution_count": 17,
     "metadata": {},
     "output_type": "execute_result"
    }
   ],
   "source": [
    "task_nine()"
   ],
   "metadata": {
    "collapsed": false,
    "ExecuteTime": {
     "end_time": "2023-11-22T19:14:16.058491Z",
     "start_time": "2023-11-22T19:14:16.033846Z"
    }
   },
   "id": "b379bafb3f46b4d1"
  },
  {
   "cell_type": "markdown",
   "source": [
    "10. Створіть функцію, щоб визначити, в якій країні встановлено максимум\n",
    "поновлюваних джерел енергії (% Renewable) та який саме відсоток.\n",
    "Ця функція повинна повертати кортеж із назвою країни та відсотком."
   ],
   "metadata": {
    "collapsed": false
   },
   "id": "cc8c7b994751d5ed"
  },
  {
   "cell_type": "code",
   "execution_count": 18,
   "outputs": [],
   "source": [
    "def task_ten():\n",
    "    max_renewable_country = task7result['% Renewable'].idxmax()\n",
    "    max_renewable_value = task7result.loc[max_renewable_country, '% Renewable']\n",
    "    return max_renewable_country, max_renewable_value"
   ],
   "metadata": {
    "collapsed": false,
    "ExecuteTime": {
     "end_time": "2023-11-22T19:14:16.058658Z",
     "start_time": "2023-11-22T19:14:16.036868Z"
    }
   },
   "id": "e1fecf6a7d3a3ae6"
  },
  {
   "cell_type": "code",
   "execution_count": 19,
   "outputs": [
    {
     "data": {
      "text/plain": "('Brazil', 69.64803)"
     },
     "execution_count": 19,
     "metadata": {},
     "output_type": "execute_result"
    }
   ],
   "source": [
    "task_ten()"
   ],
   "metadata": {
    "collapsed": false,
    "ExecuteTime": {
     "end_time": "2023-11-22T19:14:16.058836Z",
     "start_time": "2023-11-22T19:14:16.041875Z"
    }
   },
   "id": "6d6631c5ebab1905"
  },
  {
   "cell_type": "markdown",
   "source": [
    "11. Створіть стовпець, в якому оцінюється чисельність населення. Для\n",
    "пошуку оцінки використовуйте значення енергопостачання (Energy Supply)\n",
    "та енергопостачання на душу населення (Energy Supply per capita). Яка країна\n",
    "є шостою за цією оцінкою?\n",
    "Ця функція повинна повертати кортеж із назвою країни та населенням"
   ],
   "metadata": {
    "collapsed": false
   },
   "id": "a80f04e2594eba1e"
  },
  {
   "cell_type": "code",
   "execution_count": 20,
   "outputs": [],
   "source": [
    "def task_eleven():\n",
    "    task7result[\"Population\"] = task7result[\"Energy Supply\"] / task7result['Energy Supply per Capita']\n",
    "    sorted_by_population = task7result.sort_values(by=\"Population\", ascending=False)\n",
    "    country_name = sorted_by_population.index[5]\n",
    "    return country_name, sorted_by_population.loc[country_name, \"Population\"]"
   ],
   "metadata": {
    "collapsed": false,
    "ExecuteTime": {
     "end_time": "2023-11-22T19:14:16.058903Z",
     "start_time": "2023-11-22T19:14:16.045704Z"
    }
   },
   "id": "15dd10629fdc81de"
  },
  {
   "cell_type": "code",
   "execution_count": 21,
   "outputs": [
    {
     "data": {
      "text/plain": "('Japan', 127409395.97315437)"
     },
     "execution_count": 21,
     "metadata": {},
     "output_type": "execute_result"
    }
   ],
   "source": [
    "task_eleven()"
   ],
   "metadata": {
    "collapsed": false,
    "ExecuteTime": {
     "end_time": "2023-11-22T19:14:16.059034Z",
     "start_time": "2023-11-22T19:14:16.049079Z"
    }
   },
   "id": "225743cf321c2b9c"
  },
  {
   "cell_type": "markdown",
   "source": [
    "12. Створіть стовпець, в якому оцінюється кількість цитованих документів на\n",
    "одну особу. Який взаємозв'язок між кількістю цитованих документів на\n",
    "душу населення та енергозабезпеченням на душу населення? Використовуйте\n",
    "метод .corr () (кореляція Пірсона).\n",
    "Ця функція повинна повертати одне число"
   ],
   "metadata": {
    "collapsed": false
   },
   "id": "b7b53d6fbffe6e68"
  },
  {
   "cell_type": "code",
   "execution_count": 22,
   "outputs": [],
   "source": [
    "def task_twelve():\n",
    "    task7result['Citations per Capita'] = task7result['Citations'] / task7result['Population']\n",
    "    return task7result['Citations per Capita'].corr(task7result['Energy Supply per Capita'])"
   ],
   "metadata": {
    "collapsed": false,
    "ExecuteTime": {
     "end_time": "2023-11-22T19:14:16.059142Z",
     "start_time": "2023-11-22T19:14:16.052924Z"
    }
   },
   "id": "bbd7b69e0ea09202"
  },
  {
   "cell_type": "code",
   "execution_count": 23,
   "outputs": [
    {
     "data": {
      "text/plain": "0.6668248468590926"
     },
     "execution_count": 23,
     "metadata": {},
     "output_type": "execute_result"
    }
   ],
   "source": [
    "task_twelve()"
   ],
   "metadata": {
    "collapsed": false,
    "ExecuteTime": {
     "end_time": "2023-11-22T19:14:16.068137Z",
     "start_time": "2023-11-22T19:14:16.056597Z"
    }
   },
   "id": "65806729c1405499"
  },
  {
   "cell_type": "markdown",
   "source": [
    "13. Створіть новий стовпчик в який занесіть 1, якщо значення %\n",
    "відновлюваної енергії (% Renewable) країни дорівнює або вище медіани для\n",
    "всіх країн, і 0, якщо значення (% Renewable) нижче медіани."
   ],
   "metadata": {
    "collapsed": false
   },
   "id": "834d8f50af10419b"
  },
  {
   "cell_type": "code",
   "execution_count": 24,
   "outputs": [],
   "source": [
    "def task_thirteen():\n",
    "    r_median = task7result['% Renewable'].median()\n",
    "    task7result['Above Median'] = (task7result['% Renewable'] >= r_median).astype(int)\n",
    "    result_series = task7result.sort_values(by='Rank')['Above Median']\n",
    "    return pd.Series(result_series, index=result_series.index)"
   ],
   "metadata": {
    "collapsed": false,
    "ExecuteTime": {
     "end_time": "2023-11-22T19:14:16.086467Z",
     "start_time": "2023-11-22T19:14:16.060282Z"
    }
   },
   "id": "bb84f5c8a4d3095b"
  },
  {
   "cell_type": "code",
   "execution_count": 25,
   "outputs": [
    {
     "name": "stdout",
     "output_type": "stream",
     "text": [
      "Country\n",
      "China                 1\n",
      "United States         0\n",
      "Japan                 0\n",
      "United Kingdom        0\n",
      "Russian Federation    1\n",
      "Canada                1\n",
      "Germany               1\n",
      "India                 0\n",
      "France                1\n",
      "South Korea           0\n",
      "Italy                 1\n",
      "Spain                 1\n",
      "Iran                  0\n",
      "Australia             0\n",
      "Brazil                1\n",
      "Name: Above Median, dtype: int64\n"
     ]
    }
   ],
   "source": [
    "print(task_thirteen())"
   ],
   "metadata": {
    "collapsed": false,
    "ExecuteTime": {
     "end_time": "2023-11-22T19:14:16.087421Z",
     "start_time": "2023-11-22T19:14:16.063926Z"
    }
   },
   "id": "7851216d6a7fd62c"
  },
  {
   "cell_type": "markdown",
   "source": [
    "14. Використайте наступний словник, щоб згрупувати країни за\n",
    "континентами, потім створіть DataFrame, який відображає розмір вибірки\n",
    "(кількість країн на кожному континенті), а також суму, середнє та стандартне\n",
    "відхилення для оцінки кількості населення для кожної країни.\n",
    "ContinentDict = {'China':'Asia',\n",
    "'United States':'North America',\n",
    "'Japan':'Asia',\n",
    "'United Kingdom':'Europe',\n",
    "'Russian Federation':'Europe',\n",
    "'Canada':'North America',\n",
    "'Germany':'Europe',\n",
    "'India':'Asia',\n",
    "'France':'Europe',\n",
    "'South Korea':'Asia',\n",
    "'Italy':'Europe',\n",
    "'Spain':'Europe',\n",
    "'Iran':'Asia',\n",
    "'Australia':'Australia',\n",
    "'Brazil':'South America'}\n",
    "Ця функція повинна повертати DataFrame з індексом, що має ім’я Continent\n",
    "['Asia', 'Australia', 'Europe', 'North America', 'South America'] та стовпцями\n",
    "['size', 'sum', 'mean', 'std ']."
   ],
   "metadata": {
    "collapsed": false
   },
   "id": "ec16378f2eb9753b"
  },
  {
   "cell_type": "code",
   "execution_count": 26,
   "outputs": [],
   "source": [
    "def task_forteen():\n",
    "    ContinentDict = {'China':'Asia',\n",
    "                    'United States':'North America',\n",
    "                    'Japan':'Asia',\n",
    "                    'United Kingdom':'Europe',\n",
    "                    'Russian Federation':'Europe',\n",
    "                    'Canada':'North America',\n",
    "                    'Germany':'Europe',\n",
    "                    'India':'Asia',\n",
    "                    'France':'Europe',\n",
    "                    'South Korea':'Asia',\n",
    "                    'Italy':'Europe',\n",
    "                    'Spain':'Europe',\n",
    "                    'Iran':'Asia',\n",
    "                    'Australia':'Australia',\n",
    "                    'Brazil':'South America'}\n",
    "    task7result['Continent'] = task7result.index.map(ContinentDict)\n",
    "    grouped_df = task7result.groupby('Continent')['Population'].agg(['size', 'sum', 'mean', 'std'])\n",
    "    return grouped_df"
   ],
   "metadata": {
    "collapsed": false,
    "ExecuteTime": {
     "end_time": "2023-11-22T19:14:16.088280Z",
     "start_time": "2023-11-22T19:14:16.067715Z"
    }
   },
   "id": "40343bc16764c1c2"
  },
  {
   "cell_type": "code",
   "execution_count": 27,
   "outputs": [
    {
     "name": "stdout",
     "output_type": "stream",
     "text": [
      "               size            sum          mean           std\n",
      "Continent                                                     \n",
      "Asia              5 2898666386.611 579733277.322 679097888.366\n",
      "Australia         1   23316017.316  23316017.316           NaN\n",
      "Europe            6  457929667.216  76321611.203  34647667.066\n",
      "North America     2  352855249.480 176427624.740 199669644.857\n",
      "South America     1  205915254.237 205915254.237           NaN\n"
     ]
    }
   ],
   "source": [
    "print(task_forteen())"
   ],
   "metadata": {
    "collapsed": false,
    "ExecuteTime": {
     "end_time": "2023-11-22T19:14:16.157558Z",
     "start_time": "2023-11-22T19:14:16.073894Z"
    }
   },
   "id": "2679a94e0f528455"
  },
  {
   "cell_type": "markdown",
   "source": [
    "15. Створіть бульбашкову діаграму, що відображає залежність % поновлюван\n",
    "их джерел від рейтингу країни (% Renewable vs. Rank). Розмір бульбашки від\n",
    "повідає ВВП країн 2015 року, а колір відповідає континенту."
   ],
   "metadata": {
    "collapsed": false
   },
   "id": "9d94ef59716f0daa"
  },
  {
   "cell_type": "code",
   "execution_count": 28,
   "outputs": [
    {
     "data": {
      "text/plain": "<Figure size 1200x600 with 1 Axes>",
      "image/png": "[encoded data removed]"
     },
     "metadata": {},
     "output_type": "display_data"
    }
   ],
   "source": [
    "import matplotlib.pyplot as plt\n",
    "\n",
    "continent_colors = {\n",
    "    'Asia': 'red',\n",
    "    'Australia': 'yellow',\n",
    "    'Europe': 'green',\n",
    "    'North America': 'blue',\n",
    "    'South America': 'orange'\n",
    "}\n",
    "\n",
    "plt.figure(figsize=(12, 6))\n",
    "scatter = plt.scatter(\n",
    "    task7result['Rank'],\n",
    "    task7result['% Renewable'],\n",
    "    s=task7result['2015'] / 3e9,\n",
    "    alpha=0.6,\n",
    "    c=task7result['Continent'].map(continent_colors), \n",
    "    label=task7result['Continent']\n",
    ")\n",
    "\n",
    "for i, txt in enumerate(task7result.index):\n",
    "    plt.annotate(txt, (task7result['Rank'].iloc[i], task7result['% Renewable'].iloc[i]), fontsize=8, ha='center', va='center')\n",
    "    \n",
    "plt.title('Bubble Chart')\n",
    "plt.xlabel('Rank')\n",
    "plt.ylabel('% Renewable')\n",
    "plt.show()"
   ],
   "metadata": {
    "collapsed": false,
    "ExecuteTime": {
     "end_time": "2023-11-22T19:14:16.517727Z",
     "start_time": "2023-11-22T19:14:16.078811Z"
    }
   },
   "id": "1a464010a23fbc8"
  },
  {
   "cell_type": "code",
   "execution_count": 28,
   "outputs": [],
   "source": [],
   "metadata": {
    "collapsed": false,
    "ExecuteTime": {
     "end_time": "2023-11-22T19:14:16.519108Z",
     "start_time": "2023-11-22T19:14:16.517502Z"
    }
   },
   "id": "69d9b31859c4e87b"
  }
 ],
 "metadata": {
  "kernelspec": {
   "display_name": "Python 3",
   "language": "python",
   "name": "python3"
  },
  "language_info": {
   "codemirror_mode": {
    "name": "ipython",
    "version": 2
   },
   "file_extension": ".py",
   "mimetype": "text/x-python",
   "name": "python",
   "nbconvert_exporter": "python",
   "pygments_lexer": "ipython2",
   "version": "2.7.6"
  }
 },
 "nbformat": 4,
 "nbformat_minor": 5
}
