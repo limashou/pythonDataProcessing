{
 "cells": [
  {
   "cell_type": "code",
   "execution_count": 1,
   "id": "eb561f15",
   "metadata": {
    "ExecuteTime": {
     "end_time": "2023-11-30T00:14:19.674291Z",
     "start_time": "2023-11-30T00:14:19.616088Z"
    }
   },
   "outputs": [
    {
     "data": {
      "text/plain": "3"
     },
     "execution_count": 1,
     "metadata": {},
     "output_type": "execute_result"
    }
   ],
   "source": [
    "ord(\"M\") % 5 + 1"
   ]
  },
  {
   "cell_type": "code",
   "execution_count": 2,
   "id": "initial_id",
   "metadata": {
    "ExecuteTime": {
     "end_time": "2023-11-30T00:14:19.943573Z",
     "start_time": "2023-11-30T00:14:19.620220Z"
    }
   },
   "outputs": [
    {
     "data": {
      "text/plain": "   N         file name image size glasses color  line width\n0  1  emma-watson2.jpg    300x300           red           2\n1  2   emma-watson.jpg    400x400          blue           3\n2  3         draco.jpg    700x700          cian           4\n3  4    longbottom.jpg    600x600       magenta           5\n4  5    ron_wesley.jpg    500x500        yellow           6",
      "text/html": "<div>\n<style scoped>\n    .dataframe tbody tr th:only-of-type {\n        vertical-align: middle;\n    }\n\n    .dataframe tbody tr th {\n        vertical-align: top;\n    }\n\n    .dataframe thead th {\n        text-align: right;\n    }\n</style>\n<table border=\"1\" class=\"dataframe\">\n  <thead>\n    <tr style=\"text-align: right;\">\n      <th></th>\n      <th>N</th>\n      <th>file name</th>\n      <th>image size</th>\n      <th>glasses color</th>\n      <th>line width</th>\n    </tr>\n  </thead>\n  <tbody>\n    <tr>\n      <th>0</th>\n      <td>1</td>\n      <td>emma-watson2.jpg</td>\n      <td>300x300</td>\n      <td>red</td>\n      <td>2</td>\n    </tr>\n    <tr>\n      <th>1</th>\n      <td>2</td>\n      <td>emma-watson.jpg</td>\n      <td>400x400</td>\n      <td>blue</td>\n      <td>3</td>\n    </tr>\n    <tr>\n      <th>2</th>\n      <td>3</td>\n      <td>draco.jpg</td>\n      <td>700x700</td>\n      <td>cian</td>\n      <td>4</td>\n    </tr>\n    <tr>\n      <th>3</th>\n      <td>4</td>\n      <td>longbottom.jpg</td>\n      <td>600x600</td>\n      <td>magenta</td>\n      <td>5</td>\n    </tr>\n    <tr>\n      <th>4</th>\n      <td>5</td>\n      <td>ron_wesley.jpg</td>\n      <td>500x500</td>\n      <td>yellow</td>\n      <td>6</td>\n    </tr>\n  </tbody>\n</table>\n</div>"
     },
     "execution_count": 2,
     "metadata": {},
     "output_type": "execute_result"
    }
   ],
   "source": [
    "import pandas as pd\n",
    "\n",
    "df = pd.read_excel('lab6.xlsx')\n",
    "df.head()"
   ]
  },
  {
   "cell_type": "code",
   "execution_count": null,
   "id": "6556828850e0f8db",
   "metadata": {
    "is_executing": true,
    "ExecuteTime": {
     "start_time": "2023-11-30T00:14:19.945990Z"
    }
   },
   "outputs": [],
   "source": [
    "import cv2\n",
    "\n",
    "def add_glasses(image_path, output_path):\n",
    "    image = cv2.imread(image_path)\n",
    "    gray_image = cv2.cvtColor(image, cv2.COLOR_BGR2GRAY)\n",
    "    # colorGlass = (107, 223, 205)\n",
    "    colorGlass = (0, 0, 0)\n",
    "    width = 4\n",
    "    face_cascade = cv2.CascadeClassifier(cv2.data.haarcascades + \"haarcascade_frontalface_default.xml\")\n",
    "    eye_cascade = cv2.CascadeClassifier(cv2.data.haarcascades + 'haarcascade_eye.xml')\n",
    "\n",
    "    faces = face_cascade.detectMultiScale(gray_image, scaleFactor=1.1, minNeighbors=5, minSize=(100, 100))\n",
    "    eyes = eye_cascade.detectMultiScale(gray_image, scaleFactor=1.1, minNeighbors=6, minSize=(50, 50))\n",
    "    \n",
    "    right_eye_x = eyes[0][0] + eyes[0][2] // 2\n",
    "    right_eye_y = eyes[0][1] + eyes[0][3] // 2\n",
    "    left_eye_x = eyes[1][0] + eyes[1][2] // 2\n",
    "    left_eye_y = eyes[1][1] + eyes[1][3] // 2\n",
    "    \n",
    "    cv2.circle(image, (right_eye_x, right_eye_y), radius=30, color= colorGlass, thickness=df.loc[width, \"line width\"])\n",
    "    cv2.circle(image, (left_eye_x, left_eye_y), radius=30, color= colorGlass, thickness=df.loc[width, \"line width\"])\n",
    "    \n",
    "    if eyes[0][0] < eyes[1][0]:\n",
    "        cv2.line(image, (right_eye_x - 50, right_eye_y), (right_eye_x - 30, right_eye_y), colorGlass, width)\n",
    "        cv2.line(image, (right_eye_x + 30, right_eye_y), (left_eye_x - 30, right_eye_y), colorGlass, width)\n",
    "        cv2.line(image, (left_eye_x + 30, left_eye_y), (left_eye_x + 50, left_eye_y), colorGlass, width)\n",
    "    else:\n",
    "        cv2.line(image, (left_eye_x - 50, left_eye_y), (left_eye_x - 30, left_eye_y), colorGlass, width)\n",
    "        cv2.line(image, (left_eye_x + 30, left_eye_y), (right_eye_x - 30, left_eye_y), colorGlass, width)\n",
    "        cv2.line(image, (right_eye_x + 30, right_eye_y), (right_eye_x + 50, right_eye_y), colorGlass, width)\n",
    "\n",
    "    width, height = map(int, df.loc[2, \"image size\"].split('x'))\n",
    "    (x, y, w, h) = faces[0]\n",
    "    \n",
    "    center = (x + w // 2, y + h // 2)\n",
    "    \n",
    "    left = center[0] - width // 2\n",
    "    top = center[1] - height // 2\n",
    "    \n",
    "    right = center[0] + width // 2\n",
    "    bottom = center[1] + height // 2\n",
    "    \n",
    "    img_small = image[top:bottom, left:right]\n",
    "    cv2.imwrite(output_path, img_small)\n",
    "    cv2.imshow('Image with Eyes', img_small)\n",
    "    cv2.waitKey(0)\n",
    "\n",
    "add_glasses(\"Images/\" + df.loc[2, \"file name\"], 'results/result.jpg')"
   ]
  },
  {
   "cell_type": "code",
   "execution_count": null,
   "outputs": [],
   "source": [],
   "metadata": {
    "collapsed": false,
    "is_executing": true
   },
   "id": "a59ea6260070531"
  },
  {
   "cell_type": "code",
   "execution_count": null,
   "outputs": [],
   "source": [],
   "metadata": {
    "collapsed": false,
    "is_executing": true
   },
   "id": "1b5cbbe3ed06bf69"
  },
  {
   "cell_type": "code",
   "execution_count": null,
   "outputs": [],
   "source": [],
   "metadata": {
    "collapsed": false,
    "is_executing": true
   },
   "id": "6d1c295b257b49a6"
  },
  {
   "cell_type": "code",
   "execution_count": null,
   "outputs": [],
   "source": [],
   "metadata": {
    "collapsed": false,
    "is_executing": true
   },
   "id": "46a107ff1691d622"
  }
 ],
 "metadata": {
  "kernelspec": {
   "display_name": "Python 3 (ipykernel)",
   "language": "python",
   "name": "python3"
  },
  "language_info": {
   "codemirror_mode": {
    "name": "ipython",
    "version": 3
   },
   "file_extension": ".py",
   "mimetype": "text/x-python",
   "name": "python",
   "nbconvert_exporter": "python",
   "pygments_lexer": "ipython3",
   "version": "3.11.5"
  }
 },
 "nbformat": 4,
 "nbformat_minor": 5
}
